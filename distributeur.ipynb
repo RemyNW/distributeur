{
 "cells": [
  {
   "cell_type": "code",
   "execution_count": 1,
   "metadata": {},
   "outputs": [],
   "source": [
    "import pickle \n",
    "\n",
    "class Distributeur:\n",
    "    \n",
    "    def __init__(self, stock={\"cannettes\": 100, \"cacahuettes\": 50}, tresorerie=11.50, prix={\"cannettes\": 1.50, \"cacahuettes\": 1}):\n",
    "        self.stock = stock\n",
    "        self.tresorerie = tresorerie\n",
    "        self.prix = prix\n",
    "        \n",
    "        \n",
    "    def authentification(self, mot_de_passe):\n",
    "        if mot_de_passe == \"simplon\":\n",
    "            return \"Authentification validée\"\n",
    "        else:\n",
    "            return \"Authentification refusée\"\n",
    "\n",
    "\n",
    "    def acheter(self, type_produit, credit):\n",
    "        if type_produit not in self.stock:\n",
    "            return \"Désolé, le distributeur ne contient pas ce produit.\"\n",
    "        \n",
    "        if self.stock[type_produit] > 0:\n",
    "            nb_produits = min(self.stock[type_produit], int(credit / self.prix[type_produit])) # nb_produit: que l'acheteur peut acheté\n",
    "            self.stock[type_produit] -= nb_produits                                             # credit: argent que possède l'acheteur\n",
    "            self.tresorerie += nb_produits * self.prix[type_produit]\n",
    "            if nb_produits > 0:\n",
    "                print(\"Achat effectué !\")\n",
    "            else:\n",
    "                print(f\"Montant insuffisant. Il vous manque {self.prix[type_produit] - credit:.2f} €.\")\n",
    "        else:\n",
    "            print(f\"Désolé, le stock de {type_produit} est vide !\")\n",
    "\n",
    "\n",
    "    def rendre_monnaie(self):\n",
    "        print(f\"Voici votre monnaie : {self.tresorerie:.2f} €\")\n",
    "        self.tresorerie = 0\n",
    "\n",
    "    def afficher_etat(self):\n",
    "        print(f\"Stock : {self.stock}\")\n",
    "        print(f\"Trésorerie : {self.tresorerie:.2f} €\")\n",
    "\n",
    "    def ajouter_cannettes(self, nb_cannettes):\n",
    "        self.stock[\"cannettes\"] += nb_cannettes\n",
    "        \n",
    "    def ajouter_cacahuettes(self, nb_cacahuettes) :\n",
    "        self.stock[\"cacahuettes\"] += nb_cacahuettes\n",
    "\n",
    "    def vider_caisse(self):\n",
    "        self.tresorerie = 0\n",
    " \n",
    "\n",
    "def serialisation(objet, filename):\n",
    "    data = pickle.dumps(objet)\n",
    "    with open(filename, 'wb') as f:\n",
    "        f.write(data)\n",
    "\n",
    "def deserialisation(filename):\n",
    "    with open(filename, 'rb') as f:\n",
    "        data = f.read()\n",
    "    return pickle.loads(data)"
   ]
  },
  {
   "cell_type": "code",
   "execution_count": 2,
   "metadata": {},
   "outputs": [],
   "source": [
    "distributeur = Distributeur()"
   ]
  },
  {
   "cell_type": "code",
   "execution_count": 3,
   "metadata": {},
   "outputs": [
    {
     "data": {
      "text/plain": [
       "'Authentification refusée'"
      ]
     },
     "execution_count": 3,
     "metadata": {},
     "output_type": "execute_result"
    }
   ],
   "source": [
    "distributeur.authentification(\"simplo\")"
   ]
  },
  {
   "cell_type": "code",
   "execution_count": 4,
   "metadata": {},
   "outputs": [
    {
     "data": {
      "text/plain": [
       "'Authentification validée'"
      ]
     },
     "execution_count": 4,
     "metadata": {},
     "output_type": "execute_result"
    }
   ],
   "source": [
    "distributeur.authentification(\"simplon\")"
   ]
  },
  {
   "cell_type": "code",
   "execution_count": 5,
   "metadata": {},
   "outputs": [
    {
     "name": "stdout",
     "output_type": "stream",
     "text": [
      "Stock : {'cannettes': 100, 'cacahuettes': 50}\n",
      "Trésorerie : 11.50 €\n"
     ]
    }
   ],
   "source": [
    "distributeur.afficher_etat()"
   ]
  },
  {
   "cell_type": "code",
   "execution_count": 6,
   "metadata": {},
   "outputs": [
    {
     "name": "stdout",
     "output_type": "stream",
     "text": [
      "Montant insuffisant. Il vous manque 0.50 €.\n"
     ]
    }
   ],
   "source": [
    "distributeur.acheter(\"cannettes\", 1)"
   ]
  },
  {
   "cell_type": "code",
   "execution_count": 7,
   "metadata": {},
   "outputs": [
    {
     "name": "stdout",
     "output_type": "stream",
     "text": [
      "Achat effectué !\n"
     ]
    }
   ],
   "source": [
    "distributeur.acheter(\"cannettes\", 1.5)"
   ]
  },
  {
   "cell_type": "code",
   "execution_count": 8,
   "metadata": {},
   "outputs": [
    {
     "name": "stdout",
     "output_type": "stream",
     "text": [
      "Achat effectué !\n"
     ]
    }
   ],
   "source": [
    "distributeur.acheter(\"cacahuettes\", 2)"
   ]
  },
  {
   "cell_type": "code",
   "execution_count": 9,
   "metadata": {},
   "outputs": [
    {
     "name": "stdout",
     "output_type": "stream",
     "text": [
      "Stock : {'cannettes': 99, 'cacahuettes': 48}\n",
      "Trésorerie : 15.00 €\n"
     ]
    }
   ],
   "source": [
    "distributeur.afficher_etat()"
   ]
  },
  {
   "cell_type": "code",
   "execution_count": 10,
   "metadata": {},
   "outputs": [],
   "source": [
    "distributeur.ajouter_cannettes(10)"
   ]
  },
  {
   "cell_type": "code",
   "execution_count": 11,
   "metadata": {},
   "outputs": [],
   "source": [
    "distributeur.ajouter_cacahuettes(10)"
   ]
  },
  {
   "cell_type": "code",
   "execution_count": 12,
   "metadata": {},
   "outputs": [],
   "source": [
    "distributeur.vider_caisse()"
   ]
  },
  {
   "cell_type": "code",
   "execution_count": 13,
   "metadata": {},
   "outputs": [
    {
     "name": "stdout",
     "output_type": "stream",
     "text": [
      "Stock : {'cannettes': 109, 'cacahuettes': 58}\n",
      "Trésorerie : 0.00 €\n"
     ]
    }
   ],
   "source": [
    "distributeur.afficher_etat()"
   ]
  },
  {
   "cell_type": "code",
   "execution_count": 14,
   "metadata": {},
   "outputs": [],
   "source": [
    "serialisation(distributeur, \"distributeur.pkl\")"
   ]
  },
  {
   "cell_type": "code",
   "execution_count": 15,
   "metadata": {},
   "outputs": [],
   "source": [
    "distributeur = deserialisation(\"distributeur.pkl\")"
   ]
  },
  {
   "cell_type": "code",
   "execution_count": 16,
   "metadata": {},
   "outputs": [
    {
     "name": "stdout",
     "output_type": "stream",
     "text": [
      "Stock : {'cannettes': 109, 'cacahuettes': 58}\n",
      "Trésorerie : 0.00 €\n"
     ]
    }
   ],
   "source": [
    "distributeur.afficher_etat()"
   ]
  }
 ],
 "metadata": {
  "kernelspec": {
   "display_name": "Python 3",
   "language": "python",
   "name": "python3"
  },
  "language_info": {
   "codemirror_mode": {
    "name": "ipython",
    "version": 3
   },
   "file_extension": ".py",
   "mimetype": "text/x-python",
   "name": "python",
   "nbconvert_exporter": "python",
   "pygments_lexer": "ipython3",
   "version": "3.8.12 (default, Sep 28 2022, 14:57:54) \n[GCC 11.2.0]"
  },
  "orig_nbformat": 4,
  "vscode": {
   "interpreter": {
    "hash": "668465d7f4d790850d5def87cf0e38e810f7e0a7086553fdff014a1822d263f1"
   }
  }
 },
 "nbformat": 4,
 "nbformat_minor": 2
}
